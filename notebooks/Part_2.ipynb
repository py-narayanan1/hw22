{
 "cells": [
  {
   "cell_type": "code",
   "execution_count": 662,
   "metadata": {},
   "outputs": [],
   "source": [
    "import openpyxl as pxl"
   ]
  },
  {
   "cell_type": "code",
   "execution_count": 663,
   "metadata": {},
   "outputs": [],
   "source": [
    "import pandas as pd"
   ]
  },
  {
   "cell_type": "code",
   "execution_count": 664,
   "metadata": {},
   "outputs": [],
   "source": [
    "from pathlib import Path"
   ]
  },
  {
   "cell_type": "code",
   "execution_count": 665,
   "metadata": {},
   "outputs": [],
   "source": [
    "input_file = Path.cwd().joinpath(\"input\").joinpath(\"logs\")"
   ]
  },
  {
   "cell_type": "code",
   "execution_count": 666,
   "metadata": {},
   "outputs": [
    {
     "data": {
      "text/plain": [
       "WindowsPath('C:/Users/narayanan/Downloads/hw22_visweswaran/hw22_visweswaran/notebooks/input/logs')"
      ]
     },
     "execution_count": 666,
     "metadata": {},
     "output_type": "execute_result"
    }
   ],
   "source": [
    "input_file"
   ]
  },
  {
   "cell_type": "code",
   "execution_count": 667,
   "metadata": {},
   "outputs": [
    {
     "name": "stdout",
     "output_type": "stream",
     "text": [
      "filename = BCM-E-tCenter-Deep.csv, stem = BCM-E-tCenter-Deep, suffix = .csv\n",
      "filename = BCM-E-tCenter-Medium.csv, stem = BCM-E-tCenter-Medium, suffix = .csv\n",
      "filename = BCM-E-tCenter-Shallow.csv, stem = BCM-E-tCenter-Shallow, suffix = .csv\n",
      "filename = BCM-E-tLeft-Deep.csv, stem = BCM-E-tLeft-Deep, suffix = .csv\n",
      "filename = BCM-E-tLeft-Medium.csv, stem = BCM-E-tLeft-Medium, suffix = .csv\n",
      "filename = BCM-E-tRight-Deep.csv, stem = BCM-E-tRight-Deep, suffix = .csv\n",
      "filename = BCM-E-tRight-Medium.csv, stem = BCM-E-tRight-Medium, suffix = .csv\n",
      "filename = BCM-N-tCenter-Deep.csv, stem = BCM-N-tCenter-Deep, suffix = .csv\n",
      "filename = BCM-N-tCenter-Medium.csv, stem = BCM-N-tCenter-Medium, suffix = .csv\n",
      "filename = BCM-N-tLeft-Deep.csv, stem = BCM-N-tLeft-Deep, suffix = .csv\n",
      "filename = BCM-N-tLeft-Medium.csv, stem = BCM-N-tLeft-Medium, suffix = .csv\n",
      "filename = BCM-N-tRight-Deep.csv, stem = BCM-N-tRight-Deep, suffix = .csv\n",
      "filename = BCM-N-tRight-Medium.csv, stem = BCM-N-tRight-Medium, suffix = .csv\n",
      "filename = BCM-N-tRight-Shallow.csv, stem = BCM-N-tRight-Shallow, suffix = .csv\n"
     ]
    }
   ],
   "source": [
    "for f in input_file.rglob('BCM*.csv'):\n",
    "    print(f\"filename = {f.name}, stem = {f.stem}, suffix = {f.suffix}\")"
   ]
  },
  {
   "cell_type": "code",
   "execution_count": 668,
   "metadata": {},
   "outputs": [],
   "source": [
    "dfs={}"
   ]
  },
  {
   "cell_type": "code",
   "execution_count": 669,
   "metadata": {},
   "outputs": [],
   "source": [
    "for f in input_file.rglob('BCM*.csv'):\n",
    "    fstem = f.stem\n",
    "    df = pd.read_csv(f,header=None)\n",
    "    dfs[fstem] = df"
   ]
  },
  {
   "cell_type": "code",
   "execution_count": 670,
   "metadata": {
    "scrolled": false
   },
   "outputs": [],
   "source": [
    "with pd.ExcelWriter('output/BCM.xlsx') as writer:\n",
    "    for sheetname,sheetdata in dfs.items():\n",
    "            sheetdata = sheetdata.astype({0: 'datetime64',1: 'string',2:'float64'})\n",
    "            sheetdata.to_excel(writer,sheet_name=sheetname,index=False,header=['datetime','scale','temperature'])"
   ]
  },
  {
   "cell_type": "code",
   "execution_count": 671,
   "metadata": {},
   "outputs": [],
   "source": [
    "wb = pxl.load_workbook(\"output/BCM.xlsx\")"
   ]
  },
  {
   "cell_type": "code",
   "execution_count": 672,
   "metadata": {},
   "outputs": [],
   "source": [
    "from statistics import mean"
   ]
  },
  {
   "cell_type": "code",
   "execution_count": 673,
   "metadata": {},
   "outputs": [],
   "source": [
    "for x in wb.sheetnames:\n",
    "    ws = wb[x]\n",
    "    ws['G2'] = \"min_temp\"\n",
    "    ws['G3'] = \"max_temp\"\n",
    "    ws['G4'] = \"mean_temp\"\n",
    "    ws['G6'] = \"min_date\"\n",
    "    ws['G7'] = \"max_date\"\n",
    "    date_cells = []\n",
    "    temperature_cells = []\n",
    "    for row_pack in ws['A2':'A'+str(ws.max_row)]:\n",
    "        for row in row_pack:\n",
    "            date_cells.append(row.value)\n",
    "    ws['H6'] = min(date_cells)\n",
    "    ws['H7'] = max(date_cells)\n",
    "    for row_pack in ws['C2':'C'+str(ws.max_row)]:\n",
    "        for row in row_pack:\n",
    "            temperature_cells.append(row.value)\n",
    "    ws['H2'] = min(temperature_cells)\n",
    "    ws['H3'] = max(temperature_cells)\n",
    "    ws['H4'] = mean(temperature_cells)\n",
    "wb.save('output/BCM.xlsx')   "
   ]
  },
  {
   "cell_type": "markdown",
   "metadata": {},
   "source": [
    "Hacker\n"
   ]
  },
  {
   "cell_type": "code",
   "execution_count": 674,
   "metadata": {},
   "outputs": [],
   "source": [
    "set_of_files = set()\n",
    "dire = Path('input/logs_hacker')\n",
    "dfs_hacker = {}\n",
    "for f in dire.glob('*.csv'):\n",
    "    fstem = f.stem\n",
    "    df_hacker = pd.read_csv(f,header=None)\n",
    "    dfs_hacker[fstem] = df_hacker\n",
    "    set_of_files.add(fstem[0:fstem.index('-')])\n",
    "    "
   ]
  },
  {
   "cell_type": "code",
   "execution_count": 675,
   "metadata": {},
   "outputs": [],
   "source": [
    "for x in list(set_of_files):\n",
    "    wb = pxl.Workbook()\n",
    "    wb.save('output_hacker/'+x+'.xlsx')\n",
    "    with pd.ExcelWriter('output_hacker/'+x+'.xlsx') as writers:\n",
    "      for sheetname,sheetdata in dfs_hacker.items():\n",
    "        if sheetname[0:sheetname.index('-')] == x:\n",
    "            sheetdata = sheetdata.astype({0: 'datetime64',1: 'string',2:'float64'})\n",
    "            sheetdata.to_excel(writers,sheet_name=sheetname,index=False,header=['datetime','scale','temperature'])\n",
    "        else:\n",
    "            continue\n",
    "   \n",
    "    \n",
    "    "
   ]
  },
  {
   "cell_type": "code",
   "execution_count": null,
   "metadata": {},
   "outputs": [],
   "source": [
    "\n",
    "    "
   ]
  }
 ],
 "metadata": {
  "kernelspec": {
   "display_name": "Python 3",
   "language": "python",
   "name": "python3"
  },
  "language_info": {
   "codemirror_mode": {
    "name": "ipython",
    "version": 3
   },
   "file_extension": ".py",
   "mimetype": "text/x-python",
   "name": "python",
   "nbconvert_exporter": "python",
   "pygments_lexer": "ipython3",
   "version": "3.8.5"
  }
 },
 "nbformat": 4,
 "nbformat_minor": 4
}
